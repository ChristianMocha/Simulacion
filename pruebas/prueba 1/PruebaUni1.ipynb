{
  "nbformat": 4,
  "nbformat_minor": 0,
  "metadata": {
    "colab": {
      "name": "PruebaUni1.ipynb",
      "provenance": [],
      "collapsed_sections": []
    },
    "kernelspec": {
      "name": "python3",
      "display_name": "Python 3"
    },
    "language_info": {
      "name": "python"
    }
  },
  "cells": [
    {
      "cell_type": "markdown",
      "metadata": {
        "id": "f6FzAfmcCjdF"
      },
      "source": [
        ""
      ]
    },
    {
      "cell_type": "markdown",
      "metadata": {
        "id": "uDTLoQhJCpdl"
      },
      "source": [
        "<div style=\"width: 50%; float: left\">\n",
        "    <br>\n",
        "    <strong>CARRERA: </strong> Computación\n",
        "    <br>\n",
        "    <strong>ESTUDIANTE: </strong>Christian Ronaldo Mocha\n",
        "    <br>\n",
        "</div>\n",
        "<div style=\"width: 50%; float: left\">\n",
        "    <br>\n",
        "    <strong align=\"center\">PRUEBA PRÁCTICA</strong>\n",
        "    <br>\n",
        "    <br>\n",
        "    <strong>ASIGNATURA: </strong>Simulación\n",
        "    <br>\n",
        "    <strong>TÍTULO: </strong>Prueba Práctica Unidad 1\n",
        "    <br>\n",
        "    <br>\n",
        "</div>\n",
        "<strong><center>ACTIVIDADES DESARROLLADAS</center></strong>"
      ]
    },
    {
      "cell_type": "code",
      "metadata": {
        "colab": {
          "base_uri": "https://localhost:8080/"
        },
        "id": "FaXoHa7niVJz",
        "outputId": "d357c425-e93e-46ad-86ab-dd196cc58fa4"
      },
      "source": [
        "!pip install datapane\n",
        "!pip install bokeh"
      ],
      "execution_count": 511,
      "outputs": [
        {
          "output_type": "stream",
          "name": "stdout",
          "text": [
            "Requirement already satisfied: datapane in /usr/local/lib/python3.7/dist-packages (0.12.3)\n",
            "Requirement already satisfied: jsonschema<4.0.0,>=3.0.0 in /usr/local/lib/python3.7/dist-packages (from datapane) (3.2.0)\n",
            "Requirement already satisfied: pandas<2.0.0,>=1.1.0 in /usr/local/lib/python3.7/dist-packages (from datapane) (1.1.5)\n",
            "Requirement already satisfied: munch<3.0.0,>=2.3.0 in /usr/local/lib/python3.7/dist-packages (from datapane) (2.5.0)\n",
            "Requirement already satisfied: furl<3.0.0,>=2.0.0 in /usr/local/lib/python3.7/dist-packages (from datapane) (2.1.3)\n",
            "Requirement already satisfied: altair<5.0.0,>=4.0.0 in /usr/local/lib/python3.7/dist-packages (from datapane) (4.1.0)\n",
            "Requirement already satisfied: importlib_resources<6.0.0,>=3.0.0 in /usr/local/lib/python3.7/dist-packages (from datapane) (5.4.0)\n",
            "Requirement already satisfied: glom<21.0.0,>=20.5.0 in /usr/local/lib/python3.7/dist-packages (from datapane) (20.11.0)\n",
            "Requirement already satisfied: datacommons<2.0.0,>=1.4.3 in /usr/local/lib/python3.7/dist-packages (from datapane) (1.4.3)\n",
            "Requirement already satisfied: packaging<22.0.0,>=20.0.0 in /usr/local/lib/python3.7/dist-packages (from datapane) (21.3)\n",
            "Requirement already satisfied: requests-toolbelt<0.10.0,>=0.9.1 in /usr/local/lib/python3.7/dist-packages (from datapane) (0.9.1)\n",
            "Requirement already satisfied: nbconvert<7.0.0,>=5.6.1 in /usr/local/lib/python3.7/dist-packages (from datapane) (5.6.1)\n",
            "Requirement already satisfied: click<9.0.0,>=7.1.0 in /usr/local/lib/python3.7/dist-packages (from datapane) (7.1.2)\n",
            "Requirement already satisfied: colorlog<7.0.0,>=4.1.0 in /usr/local/lib/python3.7/dist-packages (from datapane) (6.6.0)\n",
            "Requirement already satisfied: click-spinner<0.2.0,>=0.1.8 in /usr/local/lib/python3.7/dist-packages (from datapane) (0.1.10)\n",
            "Requirement already satisfied: posthog<2.0.0,>=1.4.0 in /usr/local/lib/python3.7/dist-packages (from datapane) (1.4.4)\n",
            "Requirement already satisfied: requests<3.0.0,>=2.19.0 in /usr/local/lib/python3.7/dist-packages (from datapane) (2.23.0)\n",
            "Requirement already satisfied: chardet<5.0.0,>=3.0.4 in /usr/local/lib/python3.7/dist-packages (from datapane) (3.0.4)\n",
            "Requirement already satisfied: tabulate<0.9.0,>=0.8.0 in /usr/local/lib/python3.7/dist-packages (from datapane) (0.8.9)\n",
            "Requirement already satisfied: stringcase<2.0.0,>=1.2.0 in /usr/local/lib/python3.7/dist-packages (from datapane) (1.2.0)\n",
            "Requirement already satisfied: vega-datasets<1.0.0,>=0.9.0 in /usr/local/lib/python3.7/dist-packages (from datapane) (0.9.0)\n",
            "Requirement already satisfied: PyYAML<6.0.0,>=5.1.0 in /usr/local/lib/python3.7/dist-packages (from datapane) (5.4.1)\n",
            "Requirement already satisfied: toolz<0.12.0,>=0.11.0 in /usr/local/lib/python3.7/dist-packages (from datapane) (0.11.2)\n",
            "Requirement already satisfied: datacommons-pandas<0.0.4,>=0.0.3 in /usr/local/lib/python3.7/dist-packages (from datapane) (0.0.3)\n",
            "Requirement already satisfied: pydantic<2.0.0,>=1.6.0 in /usr/local/lib/python3.7/dist-packages (from datapane) (1.8.2)\n",
            "Requirement already satisfied: Jinja2<4.0.0,>=2.11.0 in /usr/local/lib/python3.7/dist-packages (from datapane) (2.11.3)\n",
            "Requirement already satisfied: micawber>=0.5.0 in /usr/local/lib/python3.7/dist-packages (from datapane) (0.5.4)\n",
            "Requirement already satisfied: dacite<2.0.0,>=1.0.2 in /usr/local/lib/python3.7/dist-packages (from datapane) (1.6.0)\n",
            "Requirement already satisfied: lxml<5.0.0,>=4.0.0 in /usr/local/lib/python3.7/dist-packages (from datapane) (4.2.6)\n",
            "Requirement already satisfied: pyarrow<6.0.0,>=3.0.0 in /usr/local/lib/python3.7/dist-packages (from datapane) (3.0.0)\n",
            "Requirement already satisfied: boltons<22.0.0,>=20.0.0 in /usr/local/lib/python3.7/dist-packages (from datapane) (21.0.0)\n",
            "Requirement already satisfied: validators<0.19.0,>=0.18.0 in /usr/local/lib/python3.7/dist-packages (from datapane) (0.18.2)\n",
            "Requirement already satisfied: dominate<3.0.0,>=2.4.0 in /usr/local/lib/python3.7/dist-packages (from datapane) (2.6.0)\n",
            "Requirement already satisfied: entrypoints in /usr/local/lib/python3.7/dist-packages (from altair<5.0.0,>=4.0.0->datapane) (0.3)\n",
            "Requirement already satisfied: numpy in /usr/local/lib/python3.7/dist-packages (from altair<5.0.0,>=4.0.0->datapane) (1.19.5)\n",
            "Requirement already satisfied: six in /usr/local/lib/python3.7/dist-packages (from datacommons<2.0.0,>=1.4.3->datapane) (1.15.0)\n",
            "Requirement already satisfied: orderedmultidict>=1.0.1 in /usr/local/lib/python3.7/dist-packages (from furl<3.0.0,>=2.0.0->datapane) (1.0.1)\n",
            "Requirement already satisfied: face>=20.1.0 in /usr/local/lib/python3.7/dist-packages (from glom<21.0.0,>=20.5.0->datapane) (20.1.1)\n",
            "Requirement already satisfied: attrs in /usr/local/lib/python3.7/dist-packages (from glom<21.0.0,>=20.5.0->datapane) (21.2.0)\n",
            "Requirement already satisfied: zipp>=3.1.0 in /usr/local/lib/python3.7/dist-packages (from importlib_resources<6.0.0,>=3.0.0->datapane) (3.6.0)\n",
            "Requirement already satisfied: MarkupSafe>=0.23 in /usr/local/lib/python3.7/dist-packages (from Jinja2<4.0.0,>=2.11.0->datapane) (2.0.1)\n",
            "Requirement already satisfied: importlib-metadata in /usr/local/lib/python3.7/dist-packages (from jsonschema<4.0.0,>=3.0.0->datapane) (4.8.2)\n",
            "Requirement already satisfied: pyrsistent>=0.14.0 in /usr/local/lib/python3.7/dist-packages (from jsonschema<4.0.0,>=3.0.0->datapane) (0.18.0)\n",
            "Requirement already satisfied: setuptools in /usr/local/lib/python3.7/dist-packages (from jsonschema<4.0.0,>=3.0.0->datapane) (57.4.0)\n",
            "Requirement already satisfied: bleach in /usr/local/lib/python3.7/dist-packages (from nbconvert<7.0.0,>=5.6.1->datapane) (4.1.0)\n",
            "Requirement already satisfied: testpath in /usr/local/lib/python3.7/dist-packages (from nbconvert<7.0.0,>=5.6.1->datapane) (0.5.0)\n",
            "Requirement already satisfied: pygments in /usr/local/lib/python3.7/dist-packages (from nbconvert<7.0.0,>=5.6.1->datapane) (2.6.1)\n",
            "Requirement already satisfied: pandocfilters>=1.4.1 in /usr/local/lib/python3.7/dist-packages (from nbconvert<7.0.0,>=5.6.1->datapane) (1.5.0)\n",
            "Requirement already satisfied: mistune<2,>=0.8.1 in /usr/local/lib/python3.7/dist-packages (from nbconvert<7.0.0,>=5.6.1->datapane) (0.8.4)\n",
            "Requirement already satisfied: defusedxml in /usr/local/lib/python3.7/dist-packages (from nbconvert<7.0.0,>=5.6.1->datapane) (0.7.1)\n",
            "Requirement already satisfied: jupyter-core in /usr/local/lib/python3.7/dist-packages (from nbconvert<7.0.0,>=5.6.1->datapane) (4.9.1)\n",
            "Requirement already satisfied: traitlets>=4.2 in /usr/local/lib/python3.7/dist-packages (from nbconvert<7.0.0,>=5.6.1->datapane) (5.1.1)\n",
            "Requirement already satisfied: nbformat>=4.4 in /usr/local/lib/python3.7/dist-packages (from nbconvert<7.0.0,>=5.6.1->datapane) (5.1.3)\n",
            "Requirement already satisfied: ipython-genutils in /usr/local/lib/python3.7/dist-packages (from nbformat>=4.4->nbconvert<7.0.0,>=5.6.1->datapane) (0.2.0)\n",
            "Requirement already satisfied: pyparsing!=3.0.5,>=2.0.2 in /usr/local/lib/python3.7/dist-packages (from packaging<22.0.0,>=20.0.0->datapane) (3.0.6)\n",
            "Requirement already satisfied: python-dateutil>=2.7.3 in /usr/local/lib/python3.7/dist-packages (from pandas<2.0.0,>=1.1.0->datapane) (2.8.2)\n",
            "Requirement already satisfied: pytz>=2017.2 in /usr/local/lib/python3.7/dist-packages (from pandas<2.0.0,>=1.1.0->datapane) (2018.9)\n",
            "Requirement already satisfied: backoff<2.0.0,>=1.10.0 in /usr/local/lib/python3.7/dist-packages (from posthog<2.0.0,>=1.4.0->datapane) (1.11.1)\n",
            "Requirement already satisfied: monotonic>=1.5 in /usr/local/lib/python3.7/dist-packages (from posthog<2.0.0,>=1.4.0->datapane) (1.6)\n",
            "Requirement already satisfied: typing-extensions>=3.7.4.3 in /usr/local/lib/python3.7/dist-packages (from pydantic<2.0.0,>=1.6.0->datapane) (3.10.0.2)\n",
            "Requirement already satisfied: idna<3,>=2.5 in /usr/local/lib/python3.7/dist-packages (from requests<3.0.0,>=2.19.0->datapane) (2.10)\n",
            "Requirement already satisfied: urllib3!=1.25.0,!=1.25.1,<1.26,>=1.21.1 in /usr/local/lib/python3.7/dist-packages (from requests<3.0.0,>=2.19.0->datapane) (1.24.3)\n",
            "Requirement already satisfied: certifi>=2017.4.17 in /usr/local/lib/python3.7/dist-packages (from requests<3.0.0,>=2.19.0->datapane) (2021.10.8)\n",
            "Requirement already satisfied: decorator>=3.4.0 in /usr/local/lib/python3.7/dist-packages (from validators<0.19.0,>=0.18.0->datapane) (4.4.2)\n",
            "Requirement already satisfied: webencodings in /usr/local/lib/python3.7/dist-packages (from bleach->nbconvert<7.0.0,>=5.6.1->datapane) (0.5.1)\n",
            "Requirement already satisfied: bokeh in /usr/local/lib/python3.7/dist-packages (2.3.3)\n",
            "Requirement already satisfied: PyYAML>=3.10 in /usr/local/lib/python3.7/dist-packages (from bokeh) (5.4.1)\n",
            "Requirement already satisfied: Jinja2>=2.9 in /usr/local/lib/python3.7/dist-packages (from bokeh) (2.11.3)\n",
            "Requirement already satisfied: numpy>=1.11.3 in /usr/local/lib/python3.7/dist-packages (from bokeh) (1.19.5)\n",
            "Requirement already satisfied: python-dateutil>=2.1 in /usr/local/lib/python3.7/dist-packages (from bokeh) (2.8.2)\n",
            "Requirement already satisfied: tornado>=5.1 in /usr/local/lib/python3.7/dist-packages (from bokeh) (5.1.1)\n",
            "Requirement already satisfied: packaging>=16.8 in /usr/local/lib/python3.7/dist-packages (from bokeh) (21.3)\n",
            "Requirement already satisfied: pillow>=7.1.0 in /usr/local/lib/python3.7/dist-packages (from bokeh) (7.1.2)\n",
            "Requirement already satisfied: typing-extensions>=3.7.4 in /usr/local/lib/python3.7/dist-packages (from bokeh) (3.10.0.2)\n",
            "Requirement already satisfied: MarkupSafe>=0.23 in /usr/local/lib/python3.7/dist-packages (from Jinja2>=2.9->bokeh) (2.0.1)\n",
            "Requirement already satisfied: pyparsing!=3.0.5,>=2.0.2 in /usr/local/lib/python3.7/dist-packages (from packaging>=16.8->bokeh) (3.0.6)\n",
            "Requirement already satisfied: six>=1.5 in /usr/local/lib/python3.7/dist-packages (from python-dateutil>=2.1->bokeh) (1.15.0)\n"
          ]
        }
      ]
    },
    {
      "cell_type": "code",
      "metadata": {
        "id": "IZ-brg-wDq4f"
      },
      "source": [
        "import pandas as pd\n",
        "import numpy as np\n",
        "from datetime import datetime\n",
        "from matplotlib import pyplot as plt\n",
        "import matplotlib.patches as mpatches\n",
        "from datetime import datetime,timedelta\n",
        "from sklearn.model_selection import train_test_split as tts\n",
        "from sklearn.linear_model import LinearRegression\n",
        "from sklearn.metrics import mean_absolute_error\n",
        "import plotly.express as plotly\n",
        "import datapane as dp"
      ],
      "execution_count": 512,
      "outputs": []
    },
    {
      "cell_type": "markdown",
      "metadata": {
        "id": "4pTgQvE-Eldc"
      },
      "source": [
        "•\tDiseñe y desarrolle un modelo y/o script que permita describir el siguiente caso aplicado:\n",
        "<br>\n",
        "◦\tSe tiene los datos del ecuador \n",
        "(https://www.ecuadorencifras.gob.ec/documentos/web-inec/EMPLEO/2021/Octubre-2021/202110_Tabulados_Mercado_Laboral_CSV.zip): En base a ello obtener lo siguiente:\n",
        "<br>\n",
        "▪\tGenerar graficas para entender y procesar los datos:\n",
        "<br>\n",
        "•\tGenerar graficas y reportes del total de personas empleadas y desempleadas por año.\n"
      ]
    },
    {
      "cell_type": "code",
      "metadata": {
        "colab": {
          "base_uri": "https://localhost:8080/",
          "height": 419
        },
        "id": "A_oy3Fc8EnAH",
        "outputId": "e431d7d1-d844-4ce3-e382-1a46e17c5744"
      },
      "source": [
        "poblacion = pd.read_csv('/content/drive/MyDrive/decimo ciclo/qusis/Prueba1/1.Poblaciones.csv',encoding='latin1', sep=';',skiprows=2)\n",
        "poblacion = poblacion.drop(poblacion.columns[[8,9,10,11,12,13,14,15,16,17,18]],axis=1)\n",
        "poblacion.rename(columns ={'Unnamed: 0':'Encuesta','Unnamed: 1':'Periodo','Unnamed: 2':'Indicadores'}, inplace = True)\n",
        "poblacion"
      ],
      "execution_count": 513,
      "outputs": [
        {
          "output_type": "execute_result",
          "data": {
            "text/html": [
              "<div>\n",
              "<style scoped>\n",
              "    .dataframe tbody tr th:only-of-type {\n",
              "        vertical-align: middle;\n",
              "    }\n",
              "\n",
              "    .dataframe tbody tr th {\n",
              "        vertical-align: top;\n",
              "    }\n",
              "\n",
              "    .dataframe thead th {\n",
              "        text-align: right;\n",
              "    }\n",
              "</style>\n",
              "<table border=\"1\" class=\"dataframe\">\n",
              "  <thead>\n",
              "    <tr style=\"text-align: right;\">\n",
              "      <th></th>\n",
              "      <th>Encuesta</th>\n",
              "      <th>Periodo</th>\n",
              "      <th>Indicadores</th>\n",
              "      <th>Total</th>\n",
              "      <th>Urbana</th>\n",
              "      <th>Rural</th>\n",
              "      <th>Hombre</th>\n",
              "      <th>Mujer</th>\n",
              "    </tr>\n",
              "  </thead>\n",
              "  <tbody>\n",
              "    <tr>\n",
              "      <th>0</th>\n",
              "      <td>ENEMDU</td>\n",
              "      <td>dic-07</td>\n",
              "      <td>Población Total</td>\n",
              "      <td>13.682.302</td>\n",
              "      <td>9.066.209</td>\n",
              "      <td>4.616.093</td>\n",
              "      <td>6.768.646</td>\n",
              "      <td>6.913.656</td>\n",
              "    </tr>\n",
              "    <tr>\n",
              "      <th>1</th>\n",
              "      <td>ENEMDU</td>\n",
              "      <td>dic-07</td>\n",
              "      <td>Población menor de 15 años</td>\n",
              "      <td>4.372.812</td>\n",
              "      <td>2.723.124</td>\n",
              "      <td>1.649.688</td>\n",
              "      <td>2.226.618</td>\n",
              "      <td>2.146.194</td>\n",
              "    </tr>\n",
              "    <tr>\n",
              "      <th>2</th>\n",
              "      <td>ENEMDU</td>\n",
              "      <td>dic-07</td>\n",
              "      <td>Población en Edad de Trabajar (PET)</td>\n",
              "      <td>9.309.490</td>\n",
              "      <td>6.343.085</td>\n",
              "      <td>2.966.404</td>\n",
              "      <td>4.542.028</td>\n",
              "      <td>4.767.462</td>\n",
              "    </tr>\n",
              "    <tr>\n",
              "      <th>3</th>\n",
              "      <td>ENEMDU</td>\n",
              "      <td>dic-07</td>\n",
              "      <td>Población Económicamente Activa</td>\n",
              "      <td>6.336.029</td>\n",
              "      <td>4.227.702</td>\n",
              "      <td>2.108.328</td>\n",
              "      <td>3.777.232</td>\n",
              "      <td>2.558.798</td>\n",
              "    </tr>\n",
              "    <tr>\n",
              "      <th>4</th>\n",
              "      <td>ENEMDU</td>\n",
              "      <td>dic-07</td>\n",
              "      <td>Empleo</td>\n",
              "      <td>6.019.332</td>\n",
              "      <td>3.971.040</td>\n",
              "      <td>2.048.292</td>\n",
              "      <td>3.632.314</td>\n",
              "      <td>2.387.018</td>\n",
              "    </tr>\n",
              "    <tr>\n",
              "      <th>...</th>\n",
              "      <td>...</td>\n",
              "      <td>...</td>\n",
              "      <td>...</td>\n",
              "      <td>...</td>\n",
              "      <td>...</td>\n",
              "      <td>...</td>\n",
              "      <td>...</td>\n",
              "      <td>...</td>\n",
              "    </tr>\n",
              "    <tr>\n",
              "      <th>895</th>\n",
              "      <td>ENEMDU*</td>\n",
              "      <td>oct-21</td>\n",
              "      <td>Desempleo Abierto</td>\n",
              "      <td>336.101</td>\n",
              "      <td>291.606</td>\n",
              "      <td>44.495</td>\n",
              "      <td>150.276</td>\n",
              "      <td>185.824</td>\n",
              "    </tr>\n",
              "    <tr>\n",
              "      <th>896</th>\n",
              "      <td>ENEMDU*</td>\n",
              "      <td>oct-21</td>\n",
              "      <td>Desempleo Oculto</td>\n",
              "      <td>48.103</td>\n",
              "      <td>27.600</td>\n",
              "      <td>20.503</td>\n",
              "      <td>25.975</td>\n",
              "      <td>22.128</td>\n",
              "    </tr>\n",
              "    <tr>\n",
              "      <th>897</th>\n",
              "      <td>ENEMDU*</td>\n",
              "      <td>oct-21</td>\n",
              "      <td>Desempleo Cesante</td>\n",
              "      <td>298.846</td>\n",
              "      <td>257.856</td>\n",
              "      <td>40.991</td>\n",
              "      <td>140.223</td>\n",
              "      <td>158.623</td>\n",
              "    </tr>\n",
              "    <tr>\n",
              "      <th>898</th>\n",
              "      <td>ENEMDU*</td>\n",
              "      <td>oct-21</td>\n",
              "      <td>Desempleo Nuevo</td>\n",
              "      <td>85.358</td>\n",
              "      <td>61.351</td>\n",
              "      <td>24.007</td>\n",
              "      <td>36.028</td>\n",
              "      <td>49.330</td>\n",
              "    </tr>\n",
              "    <tr>\n",
              "      <th>899</th>\n",
              "      <td>ENEMDU*</td>\n",
              "      <td>oct-21</td>\n",
              "      <td>Población Económicamente Inactiva</td>\n",
              "      <td>4.330.241</td>\n",
              "      <td>3.307.420</td>\n",
              "      <td>1.022.821</td>\n",
              "      <td>1.324.745</td>\n",
              "      <td>3.005.495</td>\n",
              "    </tr>\n",
              "  </tbody>\n",
              "</table>\n",
              "<p>900 rows × 8 columns</p>\n",
              "</div>"
            ],
            "text/plain": [
              "    Encuesta Periodo  ...       Hombre        Mujer\n",
              "0     ENEMDU  dic-07  ...    6.768.646    6.913.656\n",
              "1     ENEMDU  dic-07  ...    2.226.618    2.146.194\n",
              "2     ENEMDU  dic-07  ...    4.542.028    4.767.462\n",
              "3     ENEMDU  dic-07  ...    3.777.232    2.558.798\n",
              "4     ENEMDU  dic-07  ...    3.632.314    2.387.018\n",
              "..       ...     ...  ...          ...          ...\n",
              "895  ENEMDU*  oct-21  ...     150.276      185.824 \n",
              "896  ENEMDU*  oct-21  ...      25.975       22.128 \n",
              "897  ENEMDU*  oct-21  ...     140.223      158.623 \n",
              "898  ENEMDU*  oct-21  ...      36.028       49.330 \n",
              "899  ENEMDU*  oct-21  ...   1.324.745    3.005.495 \n",
              "\n",
              "[900 rows x 8 columns]"
            ]
          },
          "metadata": {},
          "execution_count": 513
        }
      ]
    },
    {
      "cell_type": "code",
      "metadata": {
        "id": "h8K-DH78PKHY"
      },
      "source": [
        "def eliminarPuntos(x):\n",
        "  return int(x.replace(\".\",\"\"))"
      ],
      "execution_count": 514,
      "outputs": []
    },
    {
      "cell_type": "code",
      "metadata": {
        "id": "huc9B8wHPVGB"
      },
      "source": [
        "poblacion[\"Total\"] =  poblacion[\"Total\"].apply(eliminarPuntos)"
      ],
      "execution_count": 515,
      "outputs": []
    },
    {
      "cell_type": "code",
      "metadata": {
        "id": "SSB7aLbRgekd"
      },
      "source": [
        "def anio(x):\n",
        "  nu= x.split(\"-\")\n",
        "  return nu[1]\n"
      ],
      "execution_count": 516,
      "outputs": []
    },
    {
      "cell_type": "code",
      "metadata": {
        "id": "sLVOEUqugmII",
        "colab": {
          "base_uri": "https://localhost:8080/",
          "height": 419
        },
        "outputId": "06643c3f-781e-40c1-a591-ada5412bb4d1"
      },
      "source": [
        "poblacion[\"Periodo\"] = poblacion[\"Periodo\"].apply(anio)\n",
        "poblacion"
      ],
      "execution_count": 517,
      "outputs": [
        {
          "output_type": "execute_result",
          "data": {
            "text/html": [
              "<div>\n",
              "<style scoped>\n",
              "    .dataframe tbody tr th:only-of-type {\n",
              "        vertical-align: middle;\n",
              "    }\n",
              "\n",
              "    .dataframe tbody tr th {\n",
              "        vertical-align: top;\n",
              "    }\n",
              "\n",
              "    .dataframe thead th {\n",
              "        text-align: right;\n",
              "    }\n",
              "</style>\n",
              "<table border=\"1\" class=\"dataframe\">\n",
              "  <thead>\n",
              "    <tr style=\"text-align: right;\">\n",
              "      <th></th>\n",
              "      <th>Encuesta</th>\n",
              "      <th>Periodo</th>\n",
              "      <th>Indicadores</th>\n",
              "      <th>Total</th>\n",
              "      <th>Urbana</th>\n",
              "      <th>Rural</th>\n",
              "      <th>Hombre</th>\n",
              "      <th>Mujer</th>\n",
              "    </tr>\n",
              "  </thead>\n",
              "  <tbody>\n",
              "    <tr>\n",
              "      <th>0</th>\n",
              "      <td>ENEMDU</td>\n",
              "      <td>07</td>\n",
              "      <td>Población Total</td>\n",
              "      <td>13682302</td>\n",
              "      <td>9.066.209</td>\n",
              "      <td>4.616.093</td>\n",
              "      <td>6.768.646</td>\n",
              "      <td>6.913.656</td>\n",
              "    </tr>\n",
              "    <tr>\n",
              "      <th>1</th>\n",
              "      <td>ENEMDU</td>\n",
              "      <td>07</td>\n",
              "      <td>Población menor de 15 años</td>\n",
              "      <td>4372812</td>\n",
              "      <td>2.723.124</td>\n",
              "      <td>1.649.688</td>\n",
              "      <td>2.226.618</td>\n",
              "      <td>2.146.194</td>\n",
              "    </tr>\n",
              "    <tr>\n",
              "      <th>2</th>\n",
              "      <td>ENEMDU</td>\n",
              "      <td>07</td>\n",
              "      <td>Población en Edad de Trabajar (PET)</td>\n",
              "      <td>9309490</td>\n",
              "      <td>6.343.085</td>\n",
              "      <td>2.966.404</td>\n",
              "      <td>4.542.028</td>\n",
              "      <td>4.767.462</td>\n",
              "    </tr>\n",
              "    <tr>\n",
              "      <th>3</th>\n",
              "      <td>ENEMDU</td>\n",
              "      <td>07</td>\n",
              "      <td>Población Económicamente Activa</td>\n",
              "      <td>6336029</td>\n",
              "      <td>4.227.702</td>\n",
              "      <td>2.108.328</td>\n",
              "      <td>3.777.232</td>\n",
              "      <td>2.558.798</td>\n",
              "    </tr>\n",
              "    <tr>\n",
              "      <th>4</th>\n",
              "      <td>ENEMDU</td>\n",
              "      <td>07</td>\n",
              "      <td>Empleo</td>\n",
              "      <td>6019332</td>\n",
              "      <td>3.971.040</td>\n",
              "      <td>2.048.292</td>\n",
              "      <td>3.632.314</td>\n",
              "      <td>2.387.018</td>\n",
              "    </tr>\n",
              "    <tr>\n",
              "      <th>...</th>\n",
              "      <td>...</td>\n",
              "      <td>...</td>\n",
              "      <td>...</td>\n",
              "      <td>...</td>\n",
              "      <td>...</td>\n",
              "      <td>...</td>\n",
              "      <td>...</td>\n",
              "      <td>...</td>\n",
              "    </tr>\n",
              "    <tr>\n",
              "      <th>895</th>\n",
              "      <td>ENEMDU*</td>\n",
              "      <td>21</td>\n",
              "      <td>Desempleo Abierto</td>\n",
              "      <td>336101</td>\n",
              "      <td>291.606</td>\n",
              "      <td>44.495</td>\n",
              "      <td>150.276</td>\n",
              "      <td>185.824</td>\n",
              "    </tr>\n",
              "    <tr>\n",
              "      <th>896</th>\n",
              "      <td>ENEMDU*</td>\n",
              "      <td>21</td>\n",
              "      <td>Desempleo Oculto</td>\n",
              "      <td>48103</td>\n",
              "      <td>27.600</td>\n",
              "      <td>20.503</td>\n",
              "      <td>25.975</td>\n",
              "      <td>22.128</td>\n",
              "    </tr>\n",
              "    <tr>\n",
              "      <th>897</th>\n",
              "      <td>ENEMDU*</td>\n",
              "      <td>21</td>\n",
              "      <td>Desempleo Cesante</td>\n",
              "      <td>298846</td>\n",
              "      <td>257.856</td>\n",
              "      <td>40.991</td>\n",
              "      <td>140.223</td>\n",
              "      <td>158.623</td>\n",
              "    </tr>\n",
              "    <tr>\n",
              "      <th>898</th>\n",
              "      <td>ENEMDU*</td>\n",
              "      <td>21</td>\n",
              "      <td>Desempleo Nuevo</td>\n",
              "      <td>85358</td>\n",
              "      <td>61.351</td>\n",
              "      <td>24.007</td>\n",
              "      <td>36.028</td>\n",
              "      <td>49.330</td>\n",
              "    </tr>\n",
              "    <tr>\n",
              "      <th>899</th>\n",
              "      <td>ENEMDU*</td>\n",
              "      <td>21</td>\n",
              "      <td>Población Económicamente Inactiva</td>\n",
              "      <td>4330241</td>\n",
              "      <td>3.307.420</td>\n",
              "      <td>1.022.821</td>\n",
              "      <td>1.324.745</td>\n",
              "      <td>3.005.495</td>\n",
              "    </tr>\n",
              "  </tbody>\n",
              "</table>\n",
              "<p>900 rows × 8 columns</p>\n",
              "</div>"
            ],
            "text/plain": [
              "    Encuesta Periodo  ...       Hombre        Mujer\n",
              "0     ENEMDU      07  ...    6.768.646    6.913.656\n",
              "1     ENEMDU      07  ...    2.226.618    2.146.194\n",
              "2     ENEMDU      07  ...    4.542.028    4.767.462\n",
              "3     ENEMDU      07  ...    3.777.232    2.558.798\n",
              "4     ENEMDU      07  ...    3.632.314    2.387.018\n",
              "..       ...     ...  ...          ...          ...\n",
              "895  ENEMDU*      21  ...     150.276      185.824 \n",
              "896  ENEMDU*      21  ...      25.975       22.128 \n",
              "897  ENEMDU*      21  ...     140.223      158.623 \n",
              "898  ENEMDU*      21  ...      36.028       49.330 \n",
              "899  ENEMDU*      21  ...   1.324.745    3.005.495 \n",
              "\n",
              "[900 rows x 8 columns]"
            ]
          },
          "metadata": {},
          "execution_count": 517
        }
      ]
    },
    {
      "cell_type": "code",
      "metadata": {
        "colab": {
          "base_uri": "https://localhost:8080/",
          "height": 419
        },
        "id": "I2Gt7dwLei0m",
        "outputId": "d24d0636-44d9-4636-e0ef-733c060075a4"
      },
      "source": [
        "dataPoblacion = poblacion[['Periodo','Indicadores','Total']].groupby(['Periodo','Indicadores'], as_index=False).mean()\n",
        "dataPoblacion"
      ],
      "execution_count": 518,
      "outputs": [
        {
          "output_type": "execute_result",
          "data": {
            "text/html": [
              "<div>\n",
              "<style scoped>\n",
              "    .dataframe tbody tr th:only-of-type {\n",
              "        vertical-align: middle;\n",
              "    }\n",
              "\n",
              "    .dataframe tbody tr th {\n",
              "        vertical-align: top;\n",
              "    }\n",
              "\n",
              "    .dataframe thead th {\n",
              "        text-align: right;\n",
              "    }\n",
              "</style>\n",
              "<table border=\"1\" class=\"dataframe\">\n",
              "  <thead>\n",
              "    <tr style=\"text-align: right;\">\n",
              "      <th></th>\n",
              "      <th>Periodo</th>\n",
              "      <th>Indicadores</th>\n",
              "      <th>Total</th>\n",
              "    </tr>\n",
              "  </thead>\n",
              "  <tbody>\n",
              "    <tr>\n",
              "      <th>0</th>\n",
              "      <td>07</td>\n",
              "      <td>Desempleo</td>\n",
              "      <td>316697.0</td>\n",
              "    </tr>\n",
              "    <tr>\n",
              "      <th>1</th>\n",
              "      <td>07</td>\n",
              "      <td>Desempleo Abierto</td>\n",
              "      <td>193225.0</td>\n",
              "    </tr>\n",
              "    <tr>\n",
              "      <th>2</th>\n",
              "      <td>07</td>\n",
              "      <td>Desempleo Cesante</td>\n",
              "      <td>190044.0</td>\n",
              "    </tr>\n",
              "    <tr>\n",
              "      <th>3</th>\n",
              "      <td>07</td>\n",
              "      <td>Desempleo Nuevo</td>\n",
              "      <td>126653.0</td>\n",
              "    </tr>\n",
              "    <tr>\n",
              "      <th>4</th>\n",
              "      <td>07</td>\n",
              "      <td>Desempleo Oculto</td>\n",
              "      <td>123472.0</td>\n",
              "    </tr>\n",
              "    <tr>\n",
              "      <th>...</th>\n",
              "      <td>...</td>\n",
              "      <td>...</td>\n",
              "      <td>...</td>\n",
              "    </tr>\n",
              "    <tr>\n",
              "      <th>266</th>\n",
              "      <td>21</td>\n",
              "      <td>Población en Edad de Trabajar (PET)</td>\n",
              "      <td>12655772.8</td>\n",
              "    </tr>\n",
              "    <tr>\n",
              "      <th>267</th>\n",
              "      <td>21</td>\n",
              "      <td>Población menor de 15 años</td>\n",
              "      <td>5150507.2</td>\n",
              "    </tr>\n",
              "    <tr>\n",
              "      <th>268</th>\n",
              "      <td>21</td>\n",
              "      <td>Subempleo</td>\n",
              "      <td>1933593.1</td>\n",
              "    </tr>\n",
              "    <tr>\n",
              "      <th>269</th>\n",
              "      <td>21</td>\n",
              "      <td>Subempleo por insuficiencia de ingresos</td>\n",
              "      <td>211003.9</td>\n",
              "    </tr>\n",
              "    <tr>\n",
              "      <th>270</th>\n",
              "      <td>21</td>\n",
              "      <td>Subempleo por insuficiencia de tiempo de trabajo</td>\n",
              "      <td>1722589.2</td>\n",
              "    </tr>\n",
              "  </tbody>\n",
              "</table>\n",
              "<p>271 rows × 3 columns</p>\n",
              "</div>"
            ],
            "text/plain": [
              "    Periodo                                       Indicadores       Total\n",
              "0        07                                         Desempleo    316697.0\n",
              "1        07                                 Desempleo Abierto    193225.0\n",
              "2        07                                 Desempleo Cesante    190044.0\n",
              "3        07                                   Desempleo Nuevo    126653.0\n",
              "4        07                                  Desempleo Oculto    123472.0\n",
              "..      ...                                               ...         ...\n",
              "266      21               Población en Edad de Trabajar (PET)  12655772.8\n",
              "267      21                        Población menor de 15 años   5150507.2\n",
              "268      21                                         Subempleo   1933593.1\n",
              "269      21           Subempleo por insuficiencia de ingresos    211003.9\n",
              "270      21  Subempleo por insuficiencia de tiempo de trabajo   1722589.2\n",
              "\n",
              "[271 rows x 3 columns]"
            ]
          },
          "metadata": {},
          "execution_count": 518
        }
      ]
    },
    {
      "cell_type": "code",
      "metadata": {
        "colab": {
          "base_uri": "https://localhost:8080/",
          "height": 514
        },
        "id": "2U6FLhqedNyK",
        "outputId": "5e8f4564-6b0f-4eb5-be80-aeafbb936567"
      },
      "source": [
        "indicadorEmpleo = dataPoblacion[dataPoblacion['Indicadores'] == \"Empleo\"]\n",
        "indicadorDesempleo = dataPoblacion[dataPoblacion['Indicadores'] == \"Desempleo\"]\n",
        "indicadorEmpleo\n",
        "indicadorDesempleo\n",
        "\n",
        " "
      ],
      "execution_count": 519,
      "outputs": [
        {
          "output_type": "execute_result",
          "data": {
            "text/html": [
              "<div>\n",
              "<style scoped>\n",
              "    .dataframe tbody tr th:only-of-type {\n",
              "        vertical-align: middle;\n",
              "    }\n",
              "\n",
              "    .dataframe tbody tr th {\n",
              "        vertical-align: top;\n",
              "    }\n",
              "\n",
              "    .dataframe thead th {\n",
              "        text-align: right;\n",
              "    }\n",
              "</style>\n",
              "<table border=\"1\" class=\"dataframe\">\n",
              "  <thead>\n",
              "    <tr style=\"text-align: right;\">\n",
              "      <th></th>\n",
              "      <th>Periodo</th>\n",
              "      <th>Indicadores</th>\n",
              "      <th>Total</th>\n",
              "    </tr>\n",
              "  </thead>\n",
              "  <tbody>\n",
              "    <tr>\n",
              "      <th>0</th>\n",
              "      <td>07</td>\n",
              "      <td>Desempleo</td>\n",
              "      <td>316697.00</td>\n",
              "    </tr>\n",
              "    <tr>\n",
              "      <th>18</th>\n",
              "      <td>08</td>\n",
              "      <td>Desempleo</td>\n",
              "      <td>362084.50</td>\n",
              "    </tr>\n",
              "    <tr>\n",
              "      <th>36</th>\n",
              "      <td>09</td>\n",
              "      <td>Desempleo</td>\n",
              "      <td>423802.00</td>\n",
              "    </tr>\n",
              "    <tr>\n",
              "      <th>54</th>\n",
              "      <td>10</td>\n",
              "      <td>Desempleo</td>\n",
              "      <td>365672.50</td>\n",
              "    </tr>\n",
              "    <tr>\n",
              "      <th>72</th>\n",
              "      <td>11</td>\n",
              "      <td>Desempleo</td>\n",
              "      <td>302996.00</td>\n",
              "    </tr>\n",
              "    <tr>\n",
              "      <th>90</th>\n",
              "      <td>12</td>\n",
              "      <td>Desempleo</td>\n",
              "      <td>279372.50</td>\n",
              "    </tr>\n",
              "    <tr>\n",
              "      <th>108</th>\n",
              "      <td>13</td>\n",
              "      <td>Desempleo</td>\n",
              "      <td>281348.00</td>\n",
              "    </tr>\n",
              "    <tr>\n",
              "      <th>126</th>\n",
              "      <td>14</td>\n",
              "      <td>Desempleo</td>\n",
              "      <td>304555.00</td>\n",
              "    </tr>\n",
              "    <tr>\n",
              "      <th>144</th>\n",
              "      <td>15</td>\n",
              "      <td>Desempleo</td>\n",
              "      <td>324618.00</td>\n",
              "    </tr>\n",
              "    <tr>\n",
              "      <th>162</th>\n",
              "      <td>16</td>\n",
              "      <td>Desempleo</td>\n",
              "      <td>423871.75</td>\n",
              "    </tr>\n",
              "    <tr>\n",
              "      <th>180</th>\n",
              "      <td>17</td>\n",
              "      <td>Desempleo</td>\n",
              "      <td>358466.50</td>\n",
              "    </tr>\n",
              "    <tr>\n",
              "      <th>199</th>\n",
              "      <td>18</td>\n",
              "      <td>Desempleo</td>\n",
              "      <td>330265.75</td>\n",
              "    </tr>\n",
              "    <tr>\n",
              "      <th>217</th>\n",
              "      <td>19</td>\n",
              "      <td>Desempleo</td>\n",
              "      <td>365105.75</td>\n",
              "    </tr>\n",
              "    <tr>\n",
              "      <th>235</th>\n",
              "      <td>20</td>\n",
              "      <td>Desempleo</td>\n",
              "      <td>456457.50</td>\n",
              "    </tr>\n",
              "    <tr>\n",
              "      <th>253</th>\n",
              "      <td>21</td>\n",
              "      <td>Desempleo</td>\n",
              "      <td>431402.70</td>\n",
              "    </tr>\n",
              "  </tbody>\n",
              "</table>\n",
              "</div>"
            ],
            "text/plain": [
              "    Periodo Indicadores      Total\n",
              "0        07   Desempleo  316697.00\n",
              "18       08   Desempleo  362084.50\n",
              "36       09   Desempleo  423802.00\n",
              "54       10   Desempleo  365672.50\n",
              "72       11   Desempleo  302996.00\n",
              "90       12   Desempleo  279372.50\n",
              "108      13   Desempleo  281348.00\n",
              "126      14   Desempleo  304555.00\n",
              "144      15   Desempleo  324618.00\n",
              "162      16   Desempleo  423871.75\n",
              "180      17   Desempleo  358466.50\n",
              "199      18   Desempleo  330265.75\n",
              "217      19   Desempleo  365105.75\n",
              "235      20   Desempleo  456457.50\n",
              "253      21   Desempleo  431402.70"
            ]
          },
          "metadata": {},
          "execution_count": 519
        }
      ]
    },
    {
      "cell_type": "markdown",
      "metadata": {
        "id": "ovsPa5DgmAo4"
      },
      "source": [
        "\n",
        "\n",
        "# Personas con empleo por año"
      ]
    },
    {
      "cell_type": "code",
      "metadata": {
        "id": "tHekqcVgiKDQ"
      },
      "source": [
        "def graficaempleo():\n",
        "  fig, ax = plt.subplots(figsize =(12, 7))\n",
        "  plt.bar( indicadorEmpleo[\"Periodo\"],indicadorEmpleo[\"Total\"], color='Beige')\n",
        "\n",
        "  try:\n",
        "      plt.ticklabel_format(axis='y', style='plain')\n",
        "  except AttributeError:\n",
        "      print('')\n",
        "  plt.title('Empleados por Año')\n",
        "  plt.xlabel('Año')\n",
        "  plt.ylabel('Cantidad de Empleados')\n",
        "  plt.grid(linestyle='--', linewidth=0.4)\n",
        "  for index,data in enumerate(indicadorEmpleo[\"Total\"]):\n",
        "      plt.text(x=index , y =data+1 , s=f\"{data}\" , fontdict=dict(fontsize=8), ha='center', color='green', va='bottom')\n",
        "  plt.tight_layout()\n",
        "  plt.show()\n",
        "  return fig\n"
      ],
      "execution_count": 598,
      "outputs": []
    },
    {
      "cell_type": "markdown",
      "metadata": {
        "id": "aFdPfcdBmUs6"
      },
      "source": [
        "#Personas con desempleo por año"
      ]
    },
    {
      "cell_type": "code",
      "metadata": {
        "id": "SLgiMZAdk-40"
      },
      "source": [
        "def graficaDesempleo():\n",
        "  fig, ax = plt.subplots(figsize =(16, 9))\n",
        "  plt.bar(indicadorDesempleo[\"Periodo\"],indicadorDesempleo[\"Total\"], color='red')\n",
        "\n",
        "  try:\n",
        "      plt.ticklabel_format(axis='y', style='plain')\n",
        "  except AttributeError:\n",
        "      print('')\n",
        "  plt.title('Personas con desempleo por Año')\n",
        "  plt.xlabel('Año')\n",
        "  plt.ylabel('Cantidad de dempleados')\n",
        "  plt.grid(linestyle='--', linewidth=0.4)\n",
        "  for index,data in enumerate(indicadorDesempleo[\"Total\"]):\n",
        "      plt.text(x=index , y =data+1 , s=f\"{data}\" , fontdict=dict(fontsize=10), ha='center', color='green', va='bottom')\n",
        "  plt.tight_layout()\n",
        "  plt.show()\n",
        "  return fig\n"
      ],
      "execution_count": 599,
      "outputs": []
    },
    {
      "cell_type": "markdown",
      "metadata": {
        "id": "gIoEoXoEwZY0"
      },
      "source": [
        "#•\tGenerar grafico de pie por personas basadas en la sectorización de empleo."
      ]
    },
    {
      "cell_type": "code",
      "metadata": {
        "id": "sLclYYrzt5cd"
      },
      "source": [
        "def getString(x):\n",
        "  return str(x)\n",
        "def getInt(x):\n",
        "  return int(x)"
      ],
      "execution_count": 522,
      "outputs": []
    },
    {
      "cell_type": "code",
      "metadata": {
        "id": "y1WqR7ctwkml"
      },
      "source": [
        "def obtSectores(anio):\n",
        "   dataSet = poblacion;\n",
        "   dataSet['Periodo'] = dataSet['Periodo'].apply(getInt);\n",
        "   dataSet = dataSet.query('Periodo == '+str(anio)+'');\n",
        "   dataSet['Periodo'] = dataSet['Periodo'].apply(getString);\n",
        "   return dataSet;"
      ],
      "execution_count": 523,
      "outputs": []
    },
    {
      "cell_type": "code",
      "metadata": {
        "id": "qse3vwtCq5dx"
      },
      "source": [
        "def graficaSectores():\n",
        "  Urbano = obtSectores(8).iloc[-18:]\n",
        "  Urbano['Urbana'] = Urbano['Urbana'].apply(eliminarPuntos);\n",
        "\n",
        "  vecDatos=[]\n",
        "  vecEtiquetas=[]\n",
        "  for x in Urbano['Urbana']:\n",
        "    vecDatos.append(x);\n",
        "  for y in Urbano['Indicadores']:\n",
        "    vecEtiquetas.append(y)\n",
        "    \n",
        "  fig = plotly.pie(values=vecDatos, names=vecEtiquetas) \n",
        "  fig.show()\n",
        "  return fig\n"
      ],
      "execution_count": 600,
      "outputs": []
    },
    {
      "cell_type": "markdown",
      "metadata": {
        "id": "OxtfcZpqnf7k"
      },
      "source": [
        "# •\tGenerar histogramas subempleo, empleo pleno y empleo no pleno por año."
      ]
    },
    {
      "cell_type": "code",
      "metadata": {
        "id": "jEGLj-Dtnsog"
      },
      "source": [
        "subEmpleo = dataPoblacion[dataPoblacion['Indicadores'] == \"Subempleo\"]\n",
        "empleoPleno = dataPoblacion[dataPoblacion['Indicadores'] == \"Empleo Adecuado/Pleno\"]\n",
        "empleoNopleno = dataPoblacion[dataPoblacion['Indicadores'] == \"Otro Empleo no pleno\"]"
      ],
      "execution_count": 525,
      "outputs": []
    },
    {
      "cell_type": "code",
      "metadata": {
        "id": "Gm2cHEI-osOO"
      },
      "source": [
        "def geficaSubEmNoEm():\n",
        "  barWidth = 0.3\n",
        "  fig = plt.subplots(figsize =(18, 8))\n",
        "\n",
        "  IT = np.array(subEmpleo[\"Total\"])\n",
        "  ECE = np.array(empleoPleno[\"Total\"])\n",
        "  CSE = np.array(empleoNopleno[\"Total\"])\n",
        "\n",
        "  br1 = np.arange(len(IT))\n",
        "  br2 = [x + barWidth for x in br1]\n",
        "  br3 = [x + barWidth for x in br2]\n",
        "\n",
        "  plt.bar(br1, IT, color ='y', width = barWidth,\n",
        "          edgecolor ='grey', label ='Subempleo')\n",
        "  plt.bar(br2, ECE, color ='c', width = barWidth,\n",
        "          edgecolor ='grey', label ='Empleo Pleno')\n",
        "  plt.bar(br3, CSE, color ='m', width = barWidth,\n",
        "          edgecolor ='grey', label ='Empleo No pleno')\n",
        "\n",
        "  plt.xlabel('Año', fontweight ='bold', fontsize = 15)\n",
        "  plt.ylabel('Datos mostrando en millones', fontweight ='bold', fontsize = 15)\n",
        "  plt.title('Personas con Subempleo, Empleo pleno y empleo no pleno',fontweight ='bold',)\n",
        "  plt.xticks([r + barWidth for r in range(len(IT))],\n",
        "          np.array(empleoNopleno[\"Periodo\"]))\n",
        "\n",
        "  plt.legend()\n",
        "  plt.show()\n",
        "  return plt\n"
      ],
      "execution_count": 601,
      "outputs": []
    },
    {
      "cell_type": "markdown",
      "metadata": {
        "id": "mR6ghDg4zPzt"
      },
      "source": [
        "▪\tGenerar un reporte parametrizado que permita ingresar los datos de las fechas inicio y fin para obtener la información de las graficas vistas en el primer punto."
      ]
    },
    {
      "cell_type": "code",
      "metadata": {
        "id": "D15XauiR5rvp"
      },
      "source": [
        "def getDataset(fechaInicio, fechaFin):\n",
        "  dateInicio = int(fechaInicio)\n",
        "  dateFIn = int(fechaFin)\n",
        "  if dateInicio>=7 and dateFIn <=21:\n",
        "    dataSet = poblacion;\n",
        "    dataSet['Periodo'] = dataSet['Periodo'].apply(getInt);\n",
        "    dataSet = dataSet.query('Periodo >='+fechaInicio+'& Periodo <= '+fechaFin)\n",
        "    dataSet['Periodo'] = dataSet['Periodo'].apply(getString);\n",
        "  \n",
        "    return dataSet;\n",
        "  else:\n",
        "    print(\"Error el rango invalido, permito es: 7 a 21, su rango fue \" + fechaInicio + \" a \" + fechaFin)\n"
      ],
      "execution_count": 527,
      "outputs": []
    },
    {
      "cell_type": "code",
      "metadata": {
        "colab": {
          "base_uri": "https://localhost:8080/"
        },
        "id": "wjkCUCWo54Y2",
        "outputId": "e5c00728-fe9a-4e32-8bc3-2fd475b0d7cc"
      },
      "source": [
        "print(\"Buscar Personas Empleadas y Desempleadas\")\n",
        "print(\"Ingrese el rango en el que quiera buscar (Años)\")\n",
        "print(\"7 --> 2007 8 --> 2008\")\n",
        "print(\"Ingrese fecha de inicio\")\n",
        "fechaInicio = input();\n",
        "print(\"Ingrese fecha de fin\")\n",
        "fechaFin = input();\n",
        "\n",
        "empleados = getDataset(fechaInicio, fechaFin);\n",
        "empleadoss = empleados[empleados['Indicadores'] == \"Empleo\"]\n",
        "desempleados = empleados[empleados['Indicadores'] == \"Desempleo\"]"
      ],
      "execution_count": 528,
      "outputs": [
        {
          "name": "stdout",
          "output_type": "stream",
          "text": [
            "Buscar Personas Empleadas y Desempleadas\n",
            "Ingrese el rango en el que quiera buscar (Años)\n",
            "7 --> 2007 8 --> 2008\n",
            "Ingrese fecha de inicio\n",
            "7\n",
            "Ingrese fecha de fin\n",
            "21\n"
          ]
        }
      ]
    },
    {
      "cell_type": "code",
      "metadata": {
        "id": "qcZI6XvbSqn7"
      },
      "source": [
        "def grafporAnio():\n",
        "  fig, ax = plt.subplots(figsize =(20, 9))\n",
        "  empleado = ['Empl ']\n",
        "  desempleado = ['Des ']\n",
        "  grafporAnio = plt.bar(empleado + empleadoss[\"Periodo\"],empleadoss[\"Total\"], label = 'Empleo', width = 0.5, color='lightblue')\n",
        "  plt.bar(desempleado + desempleados[\"Periodo\"],desempleados[\"Total\"], label = 'Desempleo', width = 0.5, color='orange')\n",
        "\n",
        "\n",
        "  try:\n",
        "      plt.ticklabel_format(axis='y', style='plain')\n",
        "  except AttributeError:\n",
        "      print('')\n",
        "  plt.title('Personas con Empleo y Desempleo por Año con datos de las fechas inicio y fin')\n",
        "  plt.xlabel('Año')\n",
        "  plt.ylabel('Cantidad de dempleados')\n",
        "  plt.grid(linestyle='--', linewidth=0.4)\n",
        "  plt.tight_layout()\n",
        "  plt.show()\n",
        "  return fig\n"
      ],
      "execution_count": 602,
      "outputs": []
    },
    {
      "cell_type": "markdown",
      "metadata": {
        "id": "2JbKDL92zAa2"
      },
      "source": [
        "#▪\tDescribir con estadística descriptiva los datos que se encuentran en el archivos."
      ]
    },
    {
      "cell_type": "code",
      "metadata": {
        "colab": {
          "base_uri": "https://localhost:8080/"
        },
        "id": "JxGYut11xhLD",
        "outputId": "d7987a32-2342-4e32-ac65-5b8e68c29033"
      },
      "source": [
        "df = pd.DataFrame(indicadorEmpleo.describe(), columns = ['Total'])\n",
        "df1 = pd.DataFrame(desempleo.describe(), columns = ['Total'])\n",
        "df2 = pd.DataFrame(subEmpleo.describe(), columns = ['Total'])\n",
        "df3 = pd.DataFrame(empleoPleno.describe(), columns = ['Total'])\n",
        "df4 = pd.DataFrame(empleoNopleno.describe(), columns = ['Total'])\n",
        "\n",
        "print(\"Empleo \\n \", df, \"\\n\")\n",
        "print(\"Desempleo \\n \", df1, \"\\n\")\n",
        "print(\"SubEmpleo \\n \", df2, \"\\n\")\n",
        "print(\"Empleo Adecuado/Pleno \\n \", df3, \"\\n\")\n",
        "print(\"Otro Empleo no pleno \\n \", df4, \"\\n\")"
      ],
      "execution_count": 530,
      "outputs": [
        {
          "output_type": "stream",
          "name": "stdout",
          "text": [
            "Empleo \n",
            "                Total\n",
            "count  1.500000e+01\n",
            "mean   6.952479e+06\n",
            "std    7.362216e+05\n",
            "min    6.019332e+06\n",
            "25%    6.204197e+06\n",
            "50%    6.784414e+06\n",
            "75%    7.719819e+06\n",
            "max    7.917790e+06 \n",
            "\n",
            "Desempleo \n",
            "                 Total\n",
            "count      15.000000\n",
            "mean   355114.363333\n",
            "std     56871.589568\n",
            "min    279372.500000\n",
            "25%    310626.000000\n",
            "50%    358466.500000\n",
            "75%    394737.250000\n",
            "max    456457.500000 \n",
            "\n",
            "SubEmpleo \n",
            "                Total\n",
            "count  1.500000e+01\n",
            "mean   1.229065e+06\n",
            "std    4.250236e+05\n",
            "min    6.344360e+05\n",
            "25%    9.278525e+05\n",
            "50%    1.071615e+06\n",
            "75%    1.531731e+06\n",
            "max    1.978117e+06 \n",
            "\n",
            "Empleo Adecuado/Pleno \n",
            "                Total\n",
            "count  1.500000e+01\n",
            "mean   2.984756e+06\n",
            "std    3.148057e+05\n",
            "min    2.395944e+06\n",
            "25%    2.766348e+06\n",
            "50%    3.111499e+06\n",
            "75%    3.219239e+06\n",
            "max    3.404390e+06 \n",
            "\n",
            "Otro Empleo no pleno \n",
            "                Total\n",
            "count  1.500000e+01\n",
            "mean   1.991426e+06\n",
            "std    2.186774e+05\n",
            "min    1.504000e+06\n",
            "25%    1.886346e+06\n",
            "50%    2.040986e+06\n",
            "75%    2.122606e+06\n",
            "max    2.265990e+06 \n",
            "\n"
          ]
        }
      ]
    },
    {
      "cell_type": "markdown",
      "metadata": {
        "id": "UecfPG3fSLuI"
      },
      "source": [
        "#REPORTE"
      ]
    },
    {
      "cell_type": "code",
      "metadata": {
        "colab": {
          "base_uri": "https://localhost:8080/",
          "height": 1000
        },
        "id": "F2TywaP6FB6s",
        "outputId": "84c48c44-7cc9-4591-a4cf-ded17b2d48e1"
      },
      "source": [
        "graficaempleo = graficaempleo()\n",
        "graficaDesempleo = graficaDesempleo()\n",
        "graficaSectores = graficaSectores()\n",
        "geficaSubEmNoEm = geficaSubEmNoEm()\n",
        "grafporAnio = grafporAnio()\n",
        "\n"
      ],
      "execution_count": 603,
      "outputs": [
        {
          "output_type": "stream",
          "name": "stderr",
          "text": [
            "[\u001b[34m05:57:52\u001b[0m] [\u001b[32mINFO \u001b[0m] Using categorical units to plot a list of strings that are all parsable as floats or dates. If these strings should be plotted as numbers, cast to the appropriate data type before plotting.\u001b[0m\n",
            "[\u001b[34m05:57:52\u001b[0m] [\u001b[32mINFO \u001b[0m] Using categorical units to plot a list of strings that are all parsable as floats or dates. If these strings should be plotted as numbers, cast to the appropriate data type before plotting.\u001b[0m\n"
          ]
        },
        {
          "output_type": "display_data",
          "data": {
            "image/png": "[encoded data removed]",
            "text/plain": [
              "<Figure size 864x504 with 1 Axes>"
            ]
          },
          "metadata": {
            "needs_background": "light"
          }
        },
        {
          "output_type": "stream",
          "name": "stderr",
          "text": [
            "[\u001b[34m05:57:53\u001b[0m] [\u001b[32mINFO \u001b[0m] Using categorical units to plot a list of strings that are all parsable as floats or dates. If these strings should be plotted as numbers, cast to the appropriate data type before plotting.\u001b[0m\n",
            "[\u001b[34m05:57:53\u001b[0m] [\u001b[32mINFO \u001b[0m] Using categorical units to plot a list of strings that are all parsable as floats or dates. If these strings should be plotted as numbers, cast to the appropriate data type before plotting.\u001b[0m\n"
          ]
        },
        {
          "output_type": "display_data",
          "data": {
            "image/png": "[encoded data removed]",
            "text/plain": [
              "<Figure size 1152x648 with 1 Axes>"
            ]
          },
          "metadata": {
            "needs_background": "light"
          }
        },
        {
          "output_type": "stream",
          "name": "stderr",
          "text": [
            "/usr/local/lib/python3.7/dist-packages/ipykernel_launcher.py:5: SettingWithCopyWarning:\n",
            "\n",
            "\n",
            "A value is trying to be set on a copy of a slice from a DataFrame.\n",
            "Try using .loc[row_indexer,col_indexer] = value instead\n",
            "\n",
            "See the caveats in the documentation: https://pandas.pydata.org/pandas-docs/stable/user_guide/indexing.html#returning-a-view-versus-a-copy\n",
            "\n"
          ]
        },
        {
          "output_type": "display_data",
          "data": {
            "text/html": [
              "<html>\n",
              "<head><meta charset=\"utf-8\" /></head>\n",
              "<body>\n",
              "    <div>\n",
              "            <script src=\"https://cdnjs.cloudflare.com/ajax/libs/mathjax/2.7.5/MathJax.js?config=TeX-AMS-MML_SVG\"></script><script type=\"text/javascript\">if (window.MathJax) {MathJax.Hub.Config({SVG: {font: \"STIX-Web\"}});}</script>\n",
              "                <script type=\"text/javascript\">window.PlotlyConfig = {MathJaxConfig: 'local'};</script>\n",
              "        <script src=\"https://cdn.plot.ly/plotly-latest.min.js\"></script>    \n",
              "            <div id=\"3a9e579d-f701-4593-b1ad-6cd016e93b3d\" class=\"plotly-graph-div\" style=\"height:525px; width:100%;\"></div>\n",
              "            <script type=\"text/javascript\">\n",
              "                \n",
              "                    window.PLOTLYENV=window.PLOTLYENV || {};\n",
              "                    \n",
              "                if (document.getElementById(\"3a9e579d-f701-4593-b1ad-6cd016e93b3d\")) {\n",
              "                    Plotly.newPlot(\n",
              "                        '3a9e579d-f701-4593-b1ad-6cd016e93b3d',\n",
              "                        [{\"domain\": {\"x\": [0.0, 1.0], \"y\": [0.0, 1.0]}, \"hoverlabel\": {\"namelength\": 0}, \"hovertemplate\": \"label=%{label}<br>value=%{value}\", \"labels\": [\"Poblaci\\u00f3n Total\", \"Poblaci\\u00f3n menor de 15 a\\u00f1os\", \"Poblaci\\u00f3n en Edad de Trabajar (PET)\", \"Poblaci\\u00f3n Econ\\u00f3micamente Activa\", \"Empleo\", \"Empleo Adecuado/Pleno\", \"Subempleo\", \"Subempleo por insuficiencia de tiempo de trabajo\", \"Subempleo por insuficiencia de ingresos\", \"Empleo no remunerado\", \"Otro Empleo no pleno\", \"Empleo no clasificado\", \"Desempleo\", \"Desempleo Abierto\", \"Desempleo Oculto\", \"Desempleo Cesante\", \"Desempleo Nuevo\", \"Poblaci\\u00f3n Econ\\u00f3micamente Inactiva\"], \"legendgroup\": \"\", \"name\": \"\", \"showlegend\": true, \"type\": \"pie\", \"values\": [9202348, 2633450, 6568898, 4329308, 4012298, 2339288, 588824, 445009, 143815, 211070, 859126, 13990, 317011, 226983, 90028, 196643, 120368, 2239590]}],\n",
              "                        {\"legend\": {\"tracegroupgap\": 0}, \"margin\": {\"t\": 60}, \"template\": {\"data\": {\"bar\": [{\"error_x\": {\"color\": \"#2a3f5f\"}, \"error_y\": {\"color\": \"#2a3f5f\"}, \"marker\": {\"line\": {\"color\": \"#E5ECF6\", \"width\": 0.5}}, \"type\": \"bar\"}], \"barpolar\": [{\"marker\": {\"line\": {\"color\": \"#E5ECF6\", \"width\": 0.5}}, \"type\": \"barpolar\"}], \"carpet\": [{\"aaxis\": {\"endlinecolor\": \"#2a3f5f\", \"gridcolor\": \"white\", \"linecolor\": \"white\", \"minorgridcolor\": \"white\", \"startlinecolor\": \"#2a3f5f\"}, \"baxis\": {\"endlinecolor\": \"#2a3f5f\", \"gridcolor\": \"white\", \"linecolor\": \"white\", \"minorgridcolor\": \"white\", \"startlinecolor\": \"#2a3f5f\"}, \"type\": \"carpet\"}], \"choropleth\": [{\"colorbar\": {\"outlinewidth\": 0, \"ticks\": \"\"}, \"type\": \"choropleth\"}], \"contour\": [{\"colorbar\": {\"outlinewidth\": 0, \"ticks\": \"\"}, \"colorscale\": [[0.0, \"#0d0887\"], [0.1111111111111111, \"#46039f\"], [0.2222222222222222, \"#7201a8\"], [0.3333333333333333, \"#9c179e\"], [0.4444444444444444, \"#bd3786\"], [0.5555555555555556, \"#d8576b\"], [0.6666666666666666, \"#ed7953\"], [0.7777777777777778, \"#fb9f3a\"], [0.8888888888888888, \"#fdca26\"], [1.0, \"#f0f921\"]], \"type\": \"contour\"}], \"contourcarpet\": [{\"colorbar\": {\"outlinewidth\": 0, \"ticks\": \"\"}, \"type\": \"contourcarpet\"}], \"heatmap\": [{\"colorbar\": {\"outlinewidth\": 0, \"ticks\": \"\"}, \"colorscale\": [[0.0, \"#0d0887\"], [0.1111111111111111, \"#46039f\"], [0.2222222222222222, \"#7201a8\"], [0.3333333333333333, \"#9c179e\"], [0.4444444444444444, \"#bd3786\"], [0.5555555555555556, \"#d8576b\"], [0.6666666666666666, \"#ed7953\"], [0.7777777777777778, \"#fb9f3a\"], [0.8888888888888888, \"#fdca26\"], [1.0, \"#f0f921\"]], \"type\": \"heatmap\"}], \"heatmapgl\": [{\"colorbar\": {\"outlinewidth\": 0, \"ticks\": \"\"}, \"colorscale\": [[0.0, \"#0d0887\"], [0.1111111111111111, \"#46039f\"], [0.2222222222222222, \"#7201a8\"], [0.3333333333333333, \"#9c179e\"], [0.4444444444444444, \"#bd3786\"], [0.5555555555555556, \"#d8576b\"], [0.6666666666666666, \"#ed7953\"], [0.7777777777777778, \"#fb9f3a\"], [0.8888888888888888, \"#fdca26\"], [1.0, \"#f0f921\"]], \"type\": \"heatmapgl\"}], \"histogram\": [{\"marker\": {\"colorbar\": {\"outlinewidth\": 0, \"ticks\": \"\"}}, \"type\": \"histogram\"}], \"histogram2d\": [{\"colorbar\": {\"outlinewidth\": 0, \"ticks\": \"\"}, \"colorscale\": [[0.0, \"#0d0887\"], [0.1111111111111111, \"#46039f\"], [0.2222222222222222, \"#7201a8\"], [0.3333333333333333, \"#9c179e\"], [0.4444444444444444, \"#bd3786\"], [0.5555555555555556, \"#d8576b\"], [0.6666666666666666, \"#ed7953\"], [0.7777777777777778, \"#fb9f3a\"], [0.8888888888888888, \"#fdca26\"], [1.0, \"#f0f921\"]], \"type\": \"histogram2d\"}], \"histogram2dcontour\": [{\"colorbar\": {\"outlinewidth\": 0, \"ticks\": \"\"}, \"colorscale\": [[0.0, \"#0d0887\"], [0.1111111111111111, \"#46039f\"], [0.2222222222222222, \"#7201a8\"], [0.3333333333333333, \"#9c179e\"], [0.4444444444444444, \"#bd3786\"], [0.5555555555555556, \"#d8576b\"], [0.6666666666666666, \"#ed7953\"], [0.7777777777777778, \"#fb9f3a\"], [0.8888888888888888, \"#fdca26\"], [1.0, \"#f0f921\"]], \"type\": \"histogram2dcontour\"}], \"mesh3d\": [{\"colorbar\": {\"outlinewidth\": 0, \"ticks\": \"\"}, \"type\": \"mesh3d\"}], \"parcoords\": [{\"line\": {\"colorbar\": {\"outlinewidth\": 0, \"ticks\": \"\"}}, \"type\": \"parcoords\"}], \"pie\": [{\"automargin\": true, \"type\": \"pie\"}], \"scatter\": [{\"marker\": {\"colorbar\": {\"outlinewidth\": 0, \"ticks\": \"\"}}, \"type\": \"scatter\"}], \"scatter3d\": [{\"line\": {\"colorbar\": {\"outlinewidth\": 0, \"ticks\": \"\"}}, \"marker\": {\"colorbar\": {\"outlinewidth\": 0, \"ticks\": \"\"}}, \"type\": \"scatter3d\"}], \"scattercarpet\": [{\"marker\": {\"colorbar\": {\"outlinewidth\": 0, \"ticks\": \"\"}}, \"type\": \"scattercarpet\"}], \"scattergeo\": [{\"marker\": {\"colorbar\": {\"outlinewidth\": 0, \"ticks\": \"\"}}, \"type\": \"scattergeo\"}], \"scattergl\": [{\"marker\": {\"colorbar\": {\"outlinewidth\": 0, \"ticks\": \"\"}}, \"type\": \"scattergl\"}], \"scattermapbox\": [{\"marker\": {\"colorbar\": {\"outlinewidth\": 0, \"ticks\": \"\"}}, \"type\": \"scattermapbox\"}], \"scatterpolar\": [{\"marker\": {\"colorbar\": {\"outlinewidth\": 0, \"ticks\": \"\"}}, \"type\": \"scatterpolar\"}], \"scatterpolargl\": [{\"marker\": {\"colorbar\": {\"outlinewidth\": 0, \"ticks\": \"\"}}, \"type\": \"scatterpolargl\"}], \"scatterternary\": [{\"marker\": {\"colorbar\": {\"outlinewidth\": 0, \"ticks\": \"\"}}, \"type\": \"scatterternary\"}], \"surface\": [{\"colorbar\": {\"outlinewidth\": 0, \"ticks\": \"\"}, \"colorscale\": [[0.0, \"#0d0887\"], [0.1111111111111111, \"#46039f\"], [0.2222222222222222, \"#7201a8\"], [0.3333333333333333, \"#9c179e\"], [0.4444444444444444, \"#bd3786\"], [0.5555555555555556, \"#d8576b\"], [0.6666666666666666, \"#ed7953\"], [0.7777777777777778, \"#fb9f3a\"], [0.8888888888888888, \"#fdca26\"], [1.0, \"#f0f921\"]], \"type\": \"surface\"}], \"table\": [{\"cells\": {\"fill\": {\"color\": \"#EBF0F8\"}, \"line\": {\"color\": \"white\"}}, \"header\": {\"fill\": {\"color\": \"#C8D4E3\"}, \"line\": {\"color\": \"white\"}}, \"type\": \"table\"}]}, \"layout\": {\"annotationdefaults\": {\"arrowcolor\": \"#2a3f5f\", \"arrowhead\": 0, \"arrowwidth\": 1}, \"coloraxis\": {\"colorbar\": {\"outlinewidth\": 0, \"ticks\": \"\"}}, \"colorscale\": {\"diverging\": [[0, \"#8e0152\"], [0.1, \"#c51b7d\"], [0.2, \"#de77ae\"], [0.3, \"#f1b6da\"], [0.4, \"#fde0ef\"], [0.5, \"#f7f7f7\"], [0.6, \"#e6f5d0\"], [0.7, \"#b8e186\"], [0.8, \"#7fbc41\"], [0.9, \"#4d9221\"], [1, \"#276419\"]], \"sequential\": [[0.0, \"#0d0887\"], [0.1111111111111111, \"#46039f\"], [0.2222222222222222, \"#7201a8\"], [0.3333333333333333, \"#9c179e\"], [0.4444444444444444, \"#bd3786\"], [0.5555555555555556, \"#d8576b\"], [0.6666666666666666, \"#ed7953\"], [0.7777777777777778, \"#fb9f3a\"], [0.8888888888888888, \"#fdca26\"], [1.0, \"#f0f921\"]], \"sequentialminus\": [[0.0, \"#0d0887\"], [0.1111111111111111, \"#46039f\"], [0.2222222222222222, \"#7201a8\"], [0.3333333333333333, \"#9c179e\"], [0.4444444444444444, \"#bd3786\"], [0.5555555555555556, \"#d8576b\"], [0.6666666666666666, \"#ed7953\"], [0.7777777777777778, \"#fb9f3a\"], [0.8888888888888888, \"#fdca26\"], [1.0, \"#f0f921\"]]}, \"colorway\": [\"#636efa\", \"#EF553B\", \"#00cc96\", \"#ab63fa\", \"#FFA15A\", \"#19d3f3\", \"#FF6692\", \"#B6E880\", \"#FF97FF\", \"#FECB52\"], \"font\": {\"color\": \"#2a3f5f\"}, \"geo\": {\"bgcolor\": \"white\", \"lakecolor\": \"white\", \"landcolor\": \"#E5ECF6\", \"showlakes\": true, \"showland\": true, \"subunitcolor\": \"white\"}, \"hoverlabel\": {\"align\": \"left\"}, \"hovermode\": \"closest\", \"mapbox\": {\"style\": \"light\"}, \"paper_bgcolor\": \"white\", \"plot_bgcolor\": \"#E5ECF6\", \"polar\": {\"angularaxis\": {\"gridcolor\": \"white\", \"linecolor\": \"white\", \"ticks\": \"\"}, \"bgcolor\": \"#E5ECF6\", \"radialaxis\": {\"gridcolor\": \"white\", \"linecolor\": \"white\", \"ticks\": \"\"}}, \"scene\": {\"xaxis\": {\"backgroundcolor\": \"#E5ECF6\", \"gridcolor\": \"white\", \"gridwidth\": 2, \"linecolor\": \"white\", \"showbackground\": true, \"ticks\": \"\", \"zerolinecolor\": \"white\"}, \"yaxis\": {\"backgroundcolor\": \"#E5ECF6\", \"gridcolor\": \"white\", \"gridwidth\": 2, \"linecolor\": \"white\", \"showbackground\": true, \"ticks\": \"\", \"zerolinecolor\": \"white\"}, \"zaxis\": {\"backgroundcolor\": \"#E5ECF6\", \"gridcolor\": \"white\", \"gridwidth\": 2, \"linecolor\": \"white\", \"showbackground\": true, \"ticks\": \"\", \"zerolinecolor\": \"white\"}}, \"shapedefaults\": {\"line\": {\"color\": \"#2a3f5f\"}}, \"ternary\": {\"aaxis\": {\"gridcolor\": \"white\", \"linecolor\": \"white\", \"ticks\": \"\"}, \"baxis\": {\"gridcolor\": \"white\", \"linecolor\": \"white\", \"ticks\": \"\"}, \"bgcolor\": \"#E5ECF6\", \"caxis\": {\"gridcolor\": \"white\", \"linecolor\": \"white\", \"ticks\": \"\"}}, \"title\": {\"x\": 0.05}, \"xaxis\": {\"automargin\": true, \"gridcolor\": \"white\", \"linecolor\": \"white\", \"ticks\": \"\", \"title\": {\"standoff\": 15}, \"zerolinecolor\": \"white\", \"zerolinewidth\": 2}, \"yaxis\": {\"automargin\": true, \"gridcolor\": \"white\", \"linecolor\": \"white\", \"ticks\": \"\", \"title\": {\"standoff\": 15}, \"zerolinecolor\": \"white\", \"zerolinewidth\": 2}}}},\n",
              "                        {\"responsive\": true}\n",
              "                    ).then(function(){\n",
              "                            \n",
              "var gd = document.getElementById('3a9e579d-f701-4593-b1ad-6cd016e93b3d');\n",
              "var x = new MutationObserver(function (mutations, observer) {{\n",
              "        var display = window.getComputedStyle(gd).display;\n",
              "        if (!display || display === 'none') {{\n",
              "            console.log([gd, 'removed!']);\n",
              "            Plotly.purge(gd);\n",
              "            observer.disconnect();\n",
              "        }}\n",
              "}});\n",
              "\n",
              "// Listen for the removal of the full notebook cells\n",
              "var notebookContainer = gd.closest('#notebook-container');\n",
              "if (notebookContainer) {{\n",
              "    x.observe(notebookContainer, {childList: true});\n",
              "}}\n",
              "\n",
              "// Listen for the clearing of the current output cell\n",
              "var outputEl = gd.closest('.output');\n",
              "if (outputEl) {{\n",
              "    x.observe(outputEl, {childList: true});\n",
              "}}\n",
              "\n",
              "                        })\n",
              "                };\n",
              "                \n",
              "            </script>\n",
              "        </div>\n",
              "</body>\n",
              "</html>"
            ]
          },
          "metadata": {}
        },
        {
          "output_type": "display_data",
          "data": {
            "image/png": "[encoded data removed]",
            "text/plain": [
              "<Figure size 1296x576 with 1 Axes>"
            ]
          },
          "metadata": {
            "needs_background": "light"
          }
        },
        {
          "output_type": "display_data",
          "data": {
            "image/png": "[encoded data removed]",
            "text/plain": [
              "<Figure size 1440x648 with 1 Axes>"
            ]
          },
          "metadata": {
            "needs_background": "light"
          }
        }
      ]
    },
    {
      "cell_type": "code",
      "metadata": {
        "colab": {
          "base_uri": "https://localhost:8080/"
        },
        "id": "KdxZ37TjSNw8",
        "outputId": "3b5b0f23-1ac5-4633-f0a6-f0c3e2e48921"
      },
      "source": [
        "report = dp.Report(dp.Text(\"\"\"## Descripción de datos\"\"\"), dp.Text(\"\"\"## Empleo\"\"\"), dp.Plot(graficaempleo), dp.Text(\"\"\"## Desempleo\"\"\"), dp.Plot(graficaDesempleo), dp.Text(\"\"\"## Sectores\"\"\"), dp.Plot(graficaSectores),  dp.Text(\"\"\"## Empleo y desempleo con fecha de inicio y fin\"\"\"), dp.Plot(grafporAnio), ) \n",
        "file_name = \"reportePrueba.html\"\n",
        "report.save(path=file_name,open=True)"
      ],
      "execution_count": 607,
      "outputs": [
        {
          "output_type": "stream",
          "name": "stderr",
          "text": [
            "[\u001b[34m05:59:33\u001b[0m] [\u001b[36mDEBUG\u001b[0m] Saved object to /tmp/dp-tmp-uzlm_v0f/dp-tmp-4n_levt8.svg (52930 bytes)\u001b[0m\n",
            "[\u001b[34m05:59:33\u001b[0m] [\u001b[36mDEBUG\u001b[0m] Saved object to /tmp/dp-tmp-uzlm_v0f/dp-tmp-4ytr22cf.svg (49804 bytes)\u001b[0m\n",
            "[\u001b[34m05:59:33\u001b[0m] [\u001b[36mDEBUG\u001b[0m] Saved object to /tmp/dp-tmp-uzlm_v0f/dp-tmp-dpqwoq4x.pl.json (8704 bytes)\u001b[0m\n",
            "[\u001b[34m05:59:33\u001b[0m] [\u001b[36mDEBUG\u001b[0m] Saved object to /tmp/dp-tmp-uzlm_v0f/dp-tmp-jmz4ys9r.svg (83060 bytes)\u001b[0m\n",
            "[\u001b[34m05:59:33\u001b[0m] [\u001b[36mDEBUG\u001b[0m] Successfully Built Report\u001b[0m\n"
          ]
        },
        {
          "output_type": "stream",
          "name": "stdout",
          "text": [
            "Report saved to ./reportePrueba.html. To upload and share your report, create a free Datapane account by running `datapane signup`.\n"
          ]
        }
      ]
    },
    {
      "cell_type": "markdown",
      "metadata": {
        "id": "T_6r2RRyWwR7"
      },
      "source": [
        "#Analisis\n",
        "• Con respecto a las dos primeras graficas de empleos y desempleos por año existe de un 20% a 30% mas  personas con empleos que personas desempleadas.\n",
        "<br>\n",
        "• Con respecto al diagrama de paste se muestra que existe varios sectores y de esta forma es facil indetificar los valores altos y los bajos."
      ]
    },
    {
      "cell_type": "markdown",
      "metadata": {
        "id": "YN0JUaeebEci"
      },
      "source": [
        "#Concluciones\n",
        "• Este trabajo que se realizo fue muy util ya que con esto se pudo profundisar en temas importantes como son las graficas, tomar datos de un csv, etc. <br>\n",
        "• Todos los datos que se obtuvo se logra concluir que los empleados en los ultimos 4 periodos se tiene un aumento del total de la\n",
        "población a comparacion de los desempleados se tiene una gran baja en el empleo."
      ]
    },
    {
      "cell_type": "markdown",
      "metadata": {
        "id": "tcZdIflMbHkL"
      },
      "source": [
        "#Recomendaciones\n",
        "• Se recomienda trabajar con todas las librerias actualizadas para evitar errores. <br>\n",
        "• Se recomienda analizar el dataSet antes de trabajarlo por ejemplo en el data set que se trabajo existia columnas sin nombre."
      ]
    }
  ]
}